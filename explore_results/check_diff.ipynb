{
 "cells": [
  {
   "cell_type": "code",
   "execution_count": 8,
   "metadata": {},
   "outputs": [
    {
     "name": "stdout",
     "output_type": "stream",
     "text": [
      "0x80000083, Silhouette Score: 0.351\n",
      "0x08003008, Silhouette Score: 0.339\n",
      "0x002020C0, Silhouette Score: 0.336\n",
      "0x00808300, Silhouette Score: 0.332\n",
      "0x40008041, Silhouette Score: 0.329\n",
      "0x01000601, Silhouette Score: 0.324\n",
      "0x00404180, Silhouette Score: 0.324\n",
      "0x2000C020, Silhouette Score: 0.323\n",
      "0x02000C02, Silhouette Score: 0.322\n",
      "0x10006010, Silhouette Score: 0.322\n",
      "0x00010106, Silhouette Score: 0.322\n",
      "0x00101060, Silhouette Score: 0.321\n",
      "0x04001804, Silhouette Score: 0.316\n",
      "0x00080830, Silhouette Score: 0.315\n",
      "0x0002020C, Silhouette Score: 0.315\n",
      "0x00040418, Silhouette Score: 0.31\n"
     ]
    }
   ],
   "source": [
    "import re\n",
    "\n",
    "with open('simon_32_64_nr8_hw_4_ver2.txt', 'r') as file:\n",
    "    lines = file.readlines()\n",
    "\n",
    "data = []\n",
    "\n",
    "for line in lines:\n",
    "    match_diff = re.search(r'\\((\\d+), (\\d+)\\)', line)\n",
    "    match_score = re.search(r'silhouette score: ([0-9.]+)', line)\n",
    "\n",
    "    if match_diff and match_score:\n",
    "        num1 = int(match_diff.group(1))\n",
    "        num2 = int(match_diff.group(2))\n",
    "        hex_str1 = format(num1, '04X')\n",
    "        hex_str2 = format(num2, '04X')\n",
    "        score = float(match_score.group(1))\n",
    "        rounded_score = round(score, 3)\n",
    "\n",
    "        data.append((hex_str1, hex_str2, rounded_score))\n",
    "\n",
    "sorted_data = sorted(data, key=lambda x: x[2], reverse=True)\n",
    "for item in sorted_data:\n",
    "    print(f\"0x{item[0]}{item[1]}, Silhouette Score: {item[2]}\")\n"
   ]
  },
  {
   "cell_type": "code",
   "execution_count": null,
   "metadata": {},
   "outputs": [],
   "source": []
  }
 ],
 "metadata": {
  "kernelspec": {
   "display_name": "Python 3",
   "language": "python",
   "name": "python3"
  },
  "language_info": {
   "codemirror_mode": {
    "name": "ipython",
    "version": 3
   },
   "file_extension": ".py",
   "mimetype": "text/x-python",
   "name": "python",
   "nbconvert_exporter": "python",
   "pygments_lexer": "ipython3",
   "version": "3.8.10"
  }
 },
 "nbformat": 4,
 "nbformat_minor": 2
}
