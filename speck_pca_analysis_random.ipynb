{
 "cells": [
  {
   "cell_type": "code",
   "execution_count": 1,
   "metadata": {},
   "outputs": [],
   "source": [
    "import dataset\n",
    "import pca_helper\n",
    "import numpy as np"
   ]
  },
  {
   "cell_type": "code",
   "execution_count": 2,
   "metadata": {},
   "outputs": [],
   "source": [
    "dataset_generator = dataset.DatasetGenerator(alg='speck_32_64')\n",
    "nr = 5\n",
    "datasize = 100000\n",
    "lambda_base = 1/64\n",
    "t0 = 0.002"
   ]
  },
  {
   "cell_type": "code",
   "execution_count": 3,
   "metadata": {},
   "outputs": [
    {
     "name": "stdout",
     "output_type": "stream",
     "text": [
      "   - threshold: 0.002, number of biased PCs: 0\n",
      "   - largest lambda - lambda_base: 0.0007445973849763143\n"
     ]
    }
   ],
   "source": [
    "speck_nr5 = dataset_generator.gen_random_dataset(nr, datasize)\n",
    "eigenvalue_ratio, eigenvector = pca_helper.EigenValueDecomposition(dataset=speck_nr6)\n",
    "print(f'   - threshold: {t0}, number of biased PCs: {sum(eigenvalue_ratio - lambda_base > t0)}')\n",
    "print(f'   - largest lambda - lambda_base: {max(eigenvalue_ratio) - lambda_base}')"
   ]
  },
  {
   "cell_type": "code",
   "execution_count": 1,
   "metadata": {},
   "outputs": [
    {
     "ename": "NameError",
     "evalue": "name 'eigenvalue_ratio' is not defined",
     "output_type": "error",
     "traceback": [
      "\u001b[0;31m---------------------------------------------------------------------------\u001b[0m",
      "\u001b[0;31mNameError\u001b[0m                                 Traceback (most recent call last)",
      "Cell \u001b[0;32mIn[1], line 1\u001b[0m\n\u001b[0;32m----> 1\u001b[0m \u001b[38;5;28mprint\u001b[39m(\u001b[38;5;28mround\u001b[39m(\u001b[43meigenvalue_ratio\u001b[49m) \u001b[38;5;241m-\u001b[39m lambda_base, \u001b[38;5;241m5\u001b[39m)\n",
      "\u001b[0;31mNameError\u001b[0m: name 'eigenvalue_ratio' is not defined"
     ]
    }
   ],
   "source": [
    "print(round(eigenvalue_ratio) - lambda_base, 5)"
   ]
  },
  {
   "cell_type": "code",
   "execution_count": 12,
   "metadata": {},
   "outputs": [
    {
     "name": "stdout",
     "output_type": "stream",
     "text": [
      "-7e-05\n"
     ]
    }
   ],
   "source": [
    "print(round(min(eigenvalue_ratio) - lambda_base, 5))"
   ]
  }
 ],
 "metadata": {
  "kernelspec": {
   "display_name": "Python 3",
   "language": "python",
   "name": "python3"
  },
  "language_info": {
   "codemirror_mode": {
    "name": "ipython",
    "version": 3
   },
   "file_extension": ".py",
   "mimetype": "text/x-python",
   "name": "python",
   "nbconvert_exporter": "python",
   "pygments_lexer": "ipython3",
   "version": "3.8.10"
  }
 },
 "nbformat": 4,
 "nbformat_minor": 2
}
