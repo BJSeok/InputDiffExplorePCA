{
 "cells": [
  {
   "cell_type": "code",
   "execution_count": 4,
   "metadata": {},
   "outputs": [
    {
     "name": "stdout",
     "output_type": "stream",
     "text": [
      "0.736\n",
      "0.748\n",
      "0.753\n",
      "0.762\n",
      "0.753\n",
      "0.775\n",
      "0.763\n",
      "0.742\n",
      "0.76\n",
      "0.765\n",
      "0.76\n",
      "0.76\n",
      "0.778\n",
      "0.813\n",
      "0.805\n",
      "0.871\n",
      "0.797\n",
      "0.794\n",
      "0.776\n",
      "0.804\n",
      "0.83\n",
      "0.89\n",
      "0.93\n",
      "0.769\n",
      "0.778\n",
      "0.785\n",
      "0.8\n",
      "0.804\n",
      "0.821\n",
      "0.802\n",
      "0.769\n",
      "0.788\n"
     ]
    }
   ],
   "source": [
    "import pickle\n",
    "\n",
    "for i in range(32):\n",
    "    diff = (1 << (i))\n",
    "    with open('./freshly_trained_nets/histspeck_32_64_5_'+format(diff, '08x')+'_r_depth10.p', 'rb') as file:\n",
    "        history = pickle.load(file)\n",
    "    # 정확도 데이터 추출\n",
    "    accuracies = history['acc']  # 'accuracy' 키를 사용. 필요에 따라 'val_accuracy'로 변경\n",
    "    # 가장 높은 정확도 찾기\n",
    "    best_accuracy = max(accuracies)\n",
    "    # print(f\"Difference: {format(diff, '08x')}, Best accuracy : {round(best_accuracy*100, 2)}\")\n",
    "    print(f\"{round(best_accuracy, 3)}\")\n"
   ]
  },
  {
   "cell_type": "code",
   "execution_count": null,
   "metadata": {},
   "outputs": [],
   "source": []
  }
 ],
 "metadata": {
  "kernelspec": {
   "display_name": "Python 3",
   "language": "python",
   "name": "python3"
  },
  "language_info": {
   "codemirror_mode": {
    "name": "ipython",
    "version": 3
   },
   "file_extension": ".py",
   "mimetype": "text/x-python",
   "name": "python",
   "nbconvert_exporter": "python",
   "pygments_lexer": "ipython3",
   "version": "3.8.10"
  }
 },
 "nbformat": 4,
 "nbformat_minor": 2
}
