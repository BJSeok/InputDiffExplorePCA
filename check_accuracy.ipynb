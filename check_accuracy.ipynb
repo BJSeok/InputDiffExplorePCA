{
 "cells": [
  {
   "cell_type": "code",
   "execution_count": 7,
   "metadata": {},
   "outputs": [
    {
     "name": "stdout",
     "output_type": "stream",
     "text": [
      "Difference: 00000001, Best accuracy : 0.748\n",
      "Difference: 00000002, Best accuracy : 0.736\n",
      "Difference: 00000004, Best accuracy : 0.736\n",
      "Difference: 00000008, Best accuracy : 0.748\n",
      "Difference: 00000010, Best accuracy : 0.749\n",
      "Difference: 00000020, Best accuracy : 0.75\n",
      "Difference: 00000040, Best accuracy : 0.749\n",
      "Difference: 00000080, Best accuracy : 0.749\n",
      "Difference: 00000100, Best accuracy : 0.746\n",
      "Difference: 00000200, Best accuracy : 0.744\n",
      "Difference: 00000400, Best accuracy : 0.748\n",
      "Difference: 00000800, Best accuracy : 0.75\n",
      "Difference: 00001000, Best accuracy : 0.743\n",
      "Difference: 00002000, Best accuracy : 0.747\n",
      "Difference: 00004000, Best accuracy : 0.749\n",
      "Difference: 00008000, Best accuracy : 0.749\n",
      "Difference: 00010000, Best accuracy : 0.605\n",
      "Difference: 00020000, Best accuracy : 0.612\n",
      "Difference: 00040000, Best accuracy : 0.61\n",
      "Difference: 00080000, Best accuracy : 0.611\n",
      "Difference: 00100000, Best accuracy : 0.611\n",
      "Difference: 00200000, Best accuracy : 0.629\n",
      "Difference: 00400000, Best accuracy : 0.61\n",
      "Difference: 00800000, Best accuracy : 0.612\n",
      "Difference: 01000000, Best accuracy : 0.611\n",
      "Difference: 02000000, Best accuracy : 0.611\n",
      "Difference: 04000000, Best accuracy : 0.611\n",
      "Difference: 08000000, Best accuracy : 0.611\n",
      "Difference: 10000000, Best accuracy : 0.609\n",
      "Difference: 20000000, Best accuracy : 0.61\n",
      "Difference: 40000000, Best accuracy : 0.612\n",
      "Difference: 80000000, Best accuracy : 0.622\n"
     ]
    }
   ],
   "source": [
    "import pickle\n",
    "\n",
    "for i in range(32):\n",
    "    diff = (1 << (i))\n",
    "    with open('./freshly_trained_nets/histsimon_32_64_8_'+format(diff, '08x')+'_r_depth10.p', 'rb') as file:\n",
    "        history = pickle.load(file)\n",
    "    \n",
    "    accuracies = history['acc']\n",
    "    \n",
    "    best_accuracy = max(accuracies)\n",
    "    print(f\"Difference: {format(diff, '08x')}, Best accuracy : {round(best_accuracy, 3)}\")\n"
   ]
  },
  {
   "cell_type": "code",
   "execution_count": null,
   "metadata": {},
   "outputs": [],
   "source": []
  }
 ],
 "metadata": {
  "kernelspec": {
   "display_name": "Python 3",
   "language": "python",
   "name": "python3"
  },
  "language_info": {
   "codemirror_mode": {
    "name": "ipython",
    "version": 3
   },
   "file_extension": ".py",
   "mimetype": "text/x-python",
   "name": "python",
   "nbconvert_exporter": "python",
   "pygments_lexer": "ipython3",
   "version": "3.8.10"
  }
 },
 "nbformat": 4,
 "nbformat_minor": 2
}
